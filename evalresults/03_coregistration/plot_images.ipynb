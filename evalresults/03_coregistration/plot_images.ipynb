{
 "cells": [
  {
   "cell_type": "code",
   "execution_count": 1,
   "metadata": {},
   "outputs": [],
   "source": [
    "import numpy as np\n",
    "import pandas as pd\n",
    "import seaborn as sns\n",
    "import nibabel\n",
    "\n",
    "underlay = r'../evaldata/sub-001/ses-01/sub-001_ses-01_ref.nii'\n",
    "overlay = r'evalresults/sub-001_ses-01_moco_ants_affine.nii'\n",
    "\n",
    "ul = nibabel.load(underlay).get_fdata()\n",
    "ol = nibabel.load(overlay).get_fdata()\n",
    "\n",
    "ul = ul.swapaxes(0, 2)\n",
    "ol = ol[:,:,:,4]\n",
    "ol = ol.swapaxes(0, 2)\n"
   ]
  },
  {
   "cell_type": "code",
   "execution_count": 7,
   "metadata": {},
   "outputs": [],
   "source": [
    "import matplotlib.pyplot as plt\n",
    "%matplotlib widget\n",
    "import torch\n",
    "from ipywidgets import interact,fixed\n",
    "import ipywidgets as widgets\n",
    "\n",
    "def imyshow(im):\n",
    "    def myshow(arr,vmin,vmax,z=0,t=0):\n",
    "        plt.imshow(arr[t,z],vmin=vmin,vmax=vmax,cmap='gray')  \n",
    "    if type(im)==torch.Tensor:\n",
    "        arr=im.cpu().detach().numpy()\n",
    "    elif type(im)==np.ndarray or type(im)==np.core.memmap:\n",
    "        arr=np.copy(im)\n",
    "    else:\n",
    "        print('Unknown format, nothing to display!')\n",
    "        return None\n",
    "    if len(arr.shape)>3:\n",
    "        arr=np.squeeze(arr)\n",
    "    print(arr.shape)\n",
    "    if len(arr.shape)==2:\n",
    "        interact(myshow,arr=fixed(arr[None,None,:]),vmin=fixed(arr.min()),vmax=fixed(arr.max()),z=fixed(0),t=fixed(0))\n",
    "    if len(arr.shape)==3:\n",
    "        interact(myshow,arr=fixed(arr[None,:]),vmin=fixed(arr.min()),vmax=fixed(arr.max()),z=(1,arr.shape[0]-1),t=fixed(0))\n",
    "    if len(arr.shape)==4:\n",
    "        interact(myshow,arr=fixed(arr),vmin=fixed(arr.min()),vmax=fixed(arr.max()),z=(1,arr.shape[1]-1),t=(0,arr.shape[0]-1))\n",
    "\n",
    "# expanded interactive display of 3d images, takes pytorch, sitk and np arrays\n",
    "def imyshowWOL(im, ol, op=0.1):\n",
    "    def myshow(arr,ol,vmin,vmax,z=0,t=0):\n",
    "        plt.imshow(arr[t,z],vmin=vmin,vmax=vmax,cmap='gray')  \n",
    "        plt.imshow(ol[t,z],vmin=vmin,vmax=vmax,cmap='hot',alpha=op)\n",
    "    if type(im)==torch.Tensor:\n",
    "        arr=im.cpu().detach().numpy()\n",
    "        ol=ol.cpu().detach().numpy()\n",
    "    elif type(im)==np.ndarray or type(im)==np.core.memmap:\n",
    "        arr=np.copy(im)\n",
    "        ol=np.copy(ol)\n",
    "    else:\n",
    "        print('Unknown format, nothing to display!')\n",
    "        return None\n",
    "    if len(arr.shape)>3:\n",
    "        arr=np.squeeze(arr)\n",
    "        ol=np.squeeze(ol)\n",
    "    print(arr.shape)\n",
    "    if len(arr.shape)==2:\n",
    "        interact(myshow,arr=fixed(arr[None,None,:]),ol=fixed(ol[None,None,:]),vmin=fixed(arr.min()),vmax=fixed(arr.max()),z=fixed(0),t=fixed(0))\n",
    "    if len(arr.shape)==3:\n",
    "        interact(myshow,arr=fixed(arr[None,:]),ol=fixed(ol[None,:]),vmin=fixed(arr.min()),vmax=fixed(arr.max()),z=(1,arr.shape[0]-1),t=fixed(0))\n",
    "    if len(arr.shape)==4:\n",
    "        interact(myshow,arr=fixed(arr),ol=fixed(ol),vmin=fixed(arr.min()),vmax=fixed(arr.max()),z=(1,arr.shape[1]-1),t=(0,arr.shape[0]-1))\n"
   ]
  },
  {
   "cell_type": "code",
   "execution_count": 9,
   "metadata": {},
   "outputs": [
    {
     "name": "stdout",
     "output_type": "stream",
     "text": [
      "(116, 512, 512)\n"
     ]
    },
    {
     "data": {
      "application/vnd.jupyter.widget-view+json": {
       "model_id": "81a254d3a3864646b40d686573b0c677",
       "version_major": 2,
       "version_minor": 0
      },
      "text/plain": [
       "interactive(children=(IntSlider(value=1, description='z', max=115, min=1), Output()), _dom_classes=('widget-in…"
      ]
     },
     "metadata": {},
     "output_type": "display_data"
    }
   ],
   "source": [
    "\n",
    "imyshowWOL(ul, ol, op=0.5)\n"
   ]
  },
  {
   "cell_type": "code",
   "execution_count": null,
   "metadata": {},
   "outputs": [
    {
     "name": "stdout",
     "output_type": "stream",
     "text": [
      "(116, 512, 512)\n"
     ]
    },
    {
     "data": {
      "application/vnd.jupyter.widget-view+json": {
       "model_id": "f9acbb7922064ec9a17796433420df91",
       "version_major": 2,
       "version_minor": 0
      },
      "text/plain": [
       "interactive(children=(IntSlider(value=1, description='z', max=115, min=1), Output()), _dom_classes=('widget-in…"
      ]
     },
     "metadata": {},
     "output_type": "display_data"
    }
   ],
   "source": [
    "# expanded interactive display of 3d images, takes pytorch, sitk and np arrays\n",
    "\n",
    "def imyshowRGBWOL(ul, ol, op=0.1):\n",
    "\n",
    "    def myshow(arr1,arr2,z=0,t=0):\n",
    "        image1 = arr1[t,z]\n",
    "        image2 = arr2[t,z]\n",
    "\n",
    "        # Normalize images to [0, 1] range for RGB overlay\n",
    "        image1_norm = (image1 - np.min(image1)) / (np.max(image1) - np.min(image1))\n",
    "        image2_norm = (image2 - np.min(image2)) / (np.max(image2) - np.min(image2))\n",
    "\n",
    "        # Create an RGB image with image1 in red and image2 in green\n",
    "        rgb_image = np.zeros((image1.shape[0], image1.shape[1], 3))\n",
    "        rgb_image[..., 0] = image1_norm  # Red channel\n",
    "        rgb_image[..., 1] = image2_norm  # Green channel\n",
    "        \n",
    "        plt.figure()\n",
    "        plt.imshow(rgb_image)\n",
    "        plt.axis(\"off\")\n",
    "        plt.show()\n",
    "\n",
    "    if type(ul)==torch.Tensor:\n",
    "        arr=ul.cpu().detach().numpy()\n",
    "        ol=ol.cpu().detach().numpy()\n",
    "    elif type(ul)==np.ndarray or type(ul)==np.core.memmap:\n",
    "        arr=np.copy(ul)\n",
    "        ol=np.copy(ol)\n",
    "    else:\n",
    "        print('Unknown format, nothing to display!')\n",
    "        return None\n",
    "\n",
    "    if ul.shape != ol.shape:\n",
    "        print(\"underlay and overlay array shapes differ! exiting!\")\n",
    "        return None\n",
    "\n",
    "    if len(arr.shape)>3:\n",
    "        arr=np.squeeze(arr)\n",
    "        ol=np.squeeze(ol)\n",
    "    print(arr.shape)\n",
    "\n",
    "    if len(arr.shape)==2:\n",
    "        interact(myshow, \n",
    "                 arr=fixed(arr[None,None,:]), \n",
    "                 ol=fixed(ol[None,None,:]), \n",
    "                 vmin=fixed(arr.min()), \n",
    "                 vmax=fixed(arr.max()), \n",
    "                 z=fixed(0), \n",
    "                 t=fixed(0))\n",
    "    if len(arr.shape)==3:\n",
    "        interact(myshow, \n",
    "                 arr1=fixed(arr[None,:]), \n",
    "                 arr2=fixed(ol[None,:]), \n",
    "                 z=(1,arr.shape[0]-1), \n",
    "                 t=fixed(0))\n",
    "    if len(arr.shape)==4:\n",
    "        interact(myshow, \n",
    "                 arr=fixed(arr), \n",
    "                 ol=fixed(ol), \n",
    "                 vmin=fixed(arr.min()), \n",
    "                 vmax=fixed(arr.max()), \n",
    "                 z=(1,arr.shape[1]-1), \n",
    "                 t=(0,arr.shape[0]-1))\n",
    "\n",
    "imyshowRGBWOL(ul, ol)"
   ]
  }
 ],
 "metadata": {
  "kernelspec": {
   "display_name": ".venv",
   "language": "python",
   "name": "python3"
  },
  "language_info": {
   "codemirror_mode": {
    "name": "ipython",
    "version": 3
   },
   "file_extension": ".py",
   "mimetype": "text/x-python",
   "name": "python",
   "nbconvert_exporter": "python",
   "pygments_lexer": "ipython3",
   "version": "3.12.4"
  }
 },
 "nbformat": 4,
 "nbformat_minor": 2
}
