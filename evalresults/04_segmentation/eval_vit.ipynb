{
 "cells": [
  {
   "cell_type": "code",
   "execution_count": 2,
   "metadata": {
    "notebookRunGroups": {
     "groupValue": "1"
    }
   },
   "outputs": [],
   "source": [
    "# import support functions from pyfunctionns in 0_Support_Functions for jpy-based inference using ViT\n",
    "import sys\n",
    "sys.path.insert(0, '../00_support_functions/') # add support function directory to path\n",
    "#from hvl_tools import *\n",
    "from pyfunctions import *\n"
   ]
  },
  {
   "cell_type": "code",
   "execution_count": 4,
   "metadata": {},
   "outputs": [
    {
     "name": "stdout",
     "output_type": "stream",
     "text": [
      "Performing deep-learning powered breast masking\n",
      "Using Vision Transformer\n"
     ]
    },
    {
     "name": "stderr",
     "output_type": "stream",
     "text": [
      "/mnt/islay/bmri-ai-prep/.venv/lib/python3.12/site-packages/transformers/utils/deprecation.py:165: UserWarning: The following named arguments are not valid for `SegformerImageProcessor.__init__` and were ignored: 'feature_extractor_type'\n",
      "  return func(*args, **kwargs)\n",
      "100%|██████████| 112/112 [00:21<00:00,  5.16it/s]\n",
      "100%|██████████| 112/112 [00:22<00:00,  5.02it/s]\n"
     ]
    },
    {
     "name": "stdout",
     "output_type": "stream",
     "text": [
      "... done!\n"
     ]
    }
   ],
   "source": [
    "test_input =                    r'../evaldata/sub-011/ses-01/sub-011_ses-01_ref.nii'\n",
    "test_output =                   r'evalresults/sub-011_ses-01_ref_Mask.nii'\n",
    "test_output_left =              r'evalresults/sub-011_ses-01_ref_Maskl.nii'\n",
    "test_output_right =             r'evalresults/sub-011_ses-01_ref_Maskr.nii'\n",
    "test_output_bbox_left =         r'evalresults/sub-011_ses-01_ref_Segl.nii'\n",
    "test_output_bbox_right =        r'evalresults/sub-011_ses-01_ref_Segr.nii'\n",
    "\n",
    "seg_vit(test_input, \n",
    "        test_output, \n",
    "        test_output_left, \n",
    "        test_output_right,\n",
    "        test_output_bbox_left, \n",
    "        test_output_bbox_right)"
   ]
  },
  {
   "cell_type": "markdown",
   "metadata": {},
   "source": [
    "The training dataset is mostly/all AMBL datasets, so how will it fare against DBCM datasets?"
   ]
  },
  {
   "cell_type": "code",
   "execution_count": null,
   "metadata": {},
   "outputs": [],
   "source": [
    "test_input =                    r'../evaldata/sub-021/ses-01/sub-021_ses-01_ref.nii'\n",
    "test_output =                   r'evalresults/sub-021_ses-01_ref_Mask.nii'\n",
    "test_output_left =              r'evalresults/sub-021_ses-01_ref_Maskl.nii'\n",
    "test_output_right =             r'evalresults/sub-021_ses-01_ref_Maskr.nii'\n",
    "test_output_bbox_left =         r'evalresults/sub-021_ses-01_ref_Segl.nii'\n",
    "test_output_bbox_right =        r'evalresults/sub-021_ses-01_ref_Segr.nii'\n",
    "\n",
    "seg_vit(test_input, \n",
    "        test_output, \n",
    "        test_output_left, \n",
    "        test_output_right,\n",
    "        test_output_bbox_left, \n",
    "        test_output_bbox_right)"
   ]
  },
  {
   "cell_type": "code",
   "execution_count": 3,
   "metadata": {},
   "outputs": [
    {
     "name": "stdout",
     "output_type": "stream",
     "text": [
      "Performing deep-learning powered breast masking\n",
      "Using Vision Transformer\n"
     ]
    },
    {
     "name": "stderr",
     "output_type": "stream",
     "text": [
      "/mnt/islay/bmri-ai-prep/.venv/lib/python3.12/site-packages/transformers/utils/deprecation.py:165: UserWarning: The following named arguments are not valid for `SegformerImageProcessor.__init__` and were ignored: 'feature_extractor_type'\n",
      "  return func(*args, **kwargs)\n",
      "100%|██████████| 112/112 [00:21<00:00,  5.23it/s]\n",
      "100%|██████████| 112/112 [00:22<00:00,  5.06it/s]\n"
     ]
    },
    {
     "name": "stdout",
     "output_type": "stream",
     "text": [
      "... done!\n"
     ]
    }
   ],
   "source": [
    "\n",
    "test_input =                    r'../evaldata/sub-022/ses-01/sub-022_ses-01_ref.nii'\n",
    "test_output =                   r'evalresults/sub-022_ses-01_ref_Mask.nii'\n",
    "test_output_left =              r'evalresults/sub-022_ses-01_ref_Maskl.nii'\n",
    "test_output_right =             r'evalresults/sub-022_ses-01_ref_Maskr.nii'\n",
    "test_output_bbox_left =         r'evalresults/sub-022_ses-01_ref_Segl.nii'\n",
    "test_output_bbox_right =        r'evalresults/sub-022_ses-01_ref_Segr.nii'\n",
    "\n",
    "seg_vit(test_input, \n",
    "        test_output, \n",
    "        test_output_left, \n",
    "        test_output_right,\n",
    "        test_output_bbox_left, \n",
    "        test_output_bbox_right)\n"
   ]
  },
  {
   "cell_type": "code",
   "execution_count": 3,
   "metadata": {},
   "outputs": [
    {
     "name": "stdout",
     "output_type": "stream",
     "text": [
      "Performing deep-learning powered breast masking\n",
      "Using Vision Transformer\n"
     ]
    },
    {
     "name": "stderr",
     "output_type": "stream",
     "text": [
      "/mnt/islay/bmri-ai-prep/.venv/lib/python3.12/site-packages/transformers/utils/deprecation.py:165: UserWarning: The following named arguments are not valid for `SegformerImageProcessor.__init__` and were ignored: 'feature_extractor_type'\n",
      "  return func(*args, **kwargs)\n",
      "100%|██████████| 112/112 [00:16<00:00,  6.81it/s]\n",
      "100%|██████████| 112/112 [00:16<00:00,  6.84it/s]\n"
     ]
    },
    {
     "name": "stdout",
     "output_type": "stream",
     "text": [
      "... done!\n"
     ]
    }
   ],
   "source": [
    "\n",
    "test_input =                    r'../evaldata/sub-030/ses-01/sub-030_ses-01_ref.nii'\n",
    "test_output =                   r'evalresults/sub-030_ses-01_ref_Mask.nii'\n",
    "test_output_left =              r'evalresults/sub-030_ses-01_ref_Maskl.nii'\n",
    "test_output_right =             r'evalresults/sub-030_ses-01_ref_Maskr.nii'\n",
    "test_output_bbox_left =         r'evalresults/sub-030_ses-01_ref_Segl.nii'\n",
    "test_output_bbox_right =        r'evalresults/sub-030_ses-01_ref_Segr.nii'\n",
    "\n",
    "seg_vit(test_input, \n",
    "        test_output, \n",
    "        test_output_left, \n",
    "        test_output_right,\n",
    "        test_output_bbox_left, \n",
    "        test_output_bbox_right)"
   ]
  },
  {
   "cell_type": "markdown",
   "metadata": {},
   "source": [
    "... and the answer is extremely poorly. This is a good example of how a segmentation\n",
    "network can succeed, but also fail catastrophically.\n",
    "\n",
    "How well does VIT do on our own GE and (older) Philips data?"
   ]
  },
  {
   "cell_type": "code",
   "execution_count": 5,
   "metadata": {},
   "outputs": [
    {
     "name": "stdout",
     "output_type": "stream",
     "text": [
      "Performing deep-learning powered breast masking\n",
      "Using Vision Transformer\n"
     ]
    },
    {
     "name": "stderr",
     "output_type": "stream",
     "text": [
      "/mnt/islay/bmri-ai-prep/.venv/lib/python3.12/site-packages/transformers/utils/deprecation.py:165: UserWarning: The following named arguments are not valid for `SegformerImageProcessor.__init__` and were ignored: 'feature_extractor_type'\n",
      "  return func(*args, **kwargs)\n",
      "100%|██████████| 112/112 [00:24<00:00,  4.55it/s]\n",
      "100%|██████████| 112/112 [00:22<00:00,  5.01it/s]\n"
     ]
    },
    {
     "name": "stdout",
     "output_type": "stream",
     "text": [
      "... done!\n"
     ]
    }
   ],
   "source": [
    "test_input =                    r'../testdata/ds02/ds02_ref.nii'\n",
    "test_output =                   r'evalresults/ds02_ref_Mask.nii'\n",
    "test_output_left =              r'evalresults/ds02_ref_Maskl.nii'\n",
    "test_output_right =             r'evalresults/ds02_ref_Maskr.nii'\n",
    "test_output_bbox_left =         r'evalresults/ds02_ref_Segl.nii'\n",
    "test_output_bbox_right =        r'evalresults/ds02_ref_Segr.nii'\n",
    "\n",
    "seg_vit(test_input, \n",
    "        test_output, \n",
    "        test_output_left, \n",
    "        test_output_right,\n",
    "        test_output_bbox_left, \n",
    "        test_output_bbox_right)\n"
   ]
  },
  {
   "cell_type": "code",
   "execution_count": 6,
   "metadata": {},
   "outputs": [
    {
     "name": "stdout",
     "output_type": "stream",
     "text": [
      "Performing deep-learning powered breast masking\n",
      "Using Vision Transformer\n"
     ]
    },
    {
     "name": "stderr",
     "output_type": "stream",
     "text": [
      "/mnt/islay/bmri-ai-prep/.venv/lib/python3.12/site-packages/transformers/utils/deprecation.py:165: UserWarning: The following named arguments are not valid for `SegformerImageProcessor.__init__` and were ignored: 'feature_extractor_type'\n",
      "  return func(*args, **kwargs)\n",
      "100%|██████████| 112/112 [00:30<00:00,  3.73it/s]\n",
      "100%|██████████| 112/112 [00:30<00:00,  3.65it/s]\n"
     ]
    },
    {
     "name": "stdout",
     "output_type": "stream",
     "text": [
      "... done!\n"
     ]
    }
   ],
   "source": [
    "\n",
    "test_input =                    r'../testdata/ds03/ds03_ref.nii'\n",
    "test_output =                   r'evalresults/ds03_ref_Mask.nii'\n",
    "test_output_left =              r'evalresults/ds03_ref_Maskl.nii'\n",
    "test_output_right =             r'evalresults/ds03_ref_Maskr.nii'\n",
    "test_output_bbox_left =         r'evalresults/ds03_ref_Segl.nii'\n",
    "test_output_bbox_right =        r'evalresults/ds03_ref_Segr.nii'\n",
    "\n",
    "seg_vit(test_input, \n",
    "        test_output, \n",
    "        test_output_left, \n",
    "        test_output_right,\n",
    "        test_output_bbox_left, \n",
    "        test_output_bbox_right)"
   ]
  }
 ],
 "metadata": {
  "kernelspec": {
   "display_name": ".venv",
   "language": "python",
   "name": "python3"
  },
  "language_info": {
   "codemirror_mode": {
    "name": "ipython",
    "version": 3
   },
   "file_extension": ".py",
   "mimetype": "text/x-python",
   "name": "python",
   "nbconvert_exporter": "python",
   "pygments_lexer": "ipython3",
   "version": "3.12.4"
  },
  "orig_nbformat": 4
 },
 "nbformat": 4,
 "nbformat_minor": 2
}
