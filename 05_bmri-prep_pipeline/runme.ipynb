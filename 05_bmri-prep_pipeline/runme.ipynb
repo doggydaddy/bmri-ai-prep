{
 "cells": [
  {
   "cell_type": "code",
   "execution_count": 2,
   "metadata": {},
   "outputs": [
    {
     "name": "stderr",
     "output_type": "stream",
     "text": [
      "  0%|          | 0/20 [00:00<?, ?it/s]"
     ]
    },
    {
     "name": "stdout",
     "output_type": "stream",
     "text": [
      "datadir:  ../testdata\n",
      "baip.json file found, parsing it\n",
      "nothing to be done, making direct copy to derived folder\n"
     ]
    },
    {
     "name": "stderr",
     "output_type": "stream",
     "text": [
      "0it [00:00, ?it/s]\n"
     ]
    },
    {
     "name": "stdout",
     "output_type": "stream",
     "text": [
      "datadir:  ../testdata\n",
      "baip.json file found, parsing it\n",
      "nothing to be done, making direct copy to derived folder\n"
     ]
    },
    {
     "name": "stderr",
     "output_type": "stream",
     "text": [
      "0it [00:00, ?it/s]\n"
     ]
    },
    {
     "name": "stdout",
     "output_type": "stream",
     "text": [
      "datadir:  ../testdata\n",
      "baip.json file found, parsing it\n",
      "nothing to be done, making direct copy to derived folder\n"
     ]
    },
    {
     "name": "stderr",
     "output_type": "stream",
     "text": [
      "0it [00:00, ?it/s]\n"
     ]
    },
    {
     "name": "stdout",
     "output_type": "stream",
     "text": [
      "datadir:  ../testdata\n",
      "baip.json file found, parsing it\n",
      "nothing to be done, making direct copy to derived folder\n"
     ]
    },
    {
     "name": "stderr",
     "output_type": "stream",
     "text": [
      "0it [00:00, ?it/s]\n"
     ]
    },
    {
     "name": "stdout",
     "output_type": "stream",
     "text": [
      "datadir:  ../testdata\n",
      "baip.json file found, parsing it\n",
      "nothing to be done, making direct copy to derived folder\n"
     ]
    },
    {
     "name": "stderr",
     "output_type": "stream",
     "text": [
      "0it [00:00, ?it/s]\n"
     ]
    },
    {
     "name": "stdout",
     "output_type": "stream",
     "text": [
      "datadir:  ../testdata\n",
      "baip.json file found, parsing it\n",
      "nothing to be done, making direct copy to derived folder\n"
     ]
    },
    {
     "name": "stderr",
     "output_type": "stream",
     "text": [
      "0it [00:00, ?it/s]\n"
     ]
    },
    {
     "name": "stdout",
     "output_type": "stream",
     "text": [
      "datadir:  ../testdata\n",
      "baip.json file found, parsing it\n",
      "nothing to be done, making direct copy to derived folder\n"
     ]
    },
    {
     "name": "stderr",
     "output_type": "stream",
     "text": [
      "0it [00:00, ?it/s]\n"
     ]
    },
    {
     "name": "stdout",
     "output_type": "stream",
     "text": [
      "datadir:  ../testdata\n",
      "baip.json file found, parsing it\n",
      "nothing to be done, making direct copy to derived folder\n"
     ]
    },
    {
     "name": "stderr",
     "output_type": "stream",
     "text": [
      "0it [00:00, ?it/s]\n"
     ]
    },
    {
     "name": "stdout",
     "output_type": "stream",
     "text": [
      "datadir:  ../testdata\n",
      "baip.json file found, parsing it\n",
      "nothing to be done, making direct copy to derived folder\n"
     ]
    },
    {
     "name": "stderr",
     "output_type": "stream",
     "text": [
      "0it [00:00, ?it/s]\n"
     ]
    },
    {
     "name": "stdout",
     "output_type": "stream",
     "text": [
      "datadir:  ../testdata\n",
      "baip.json file found, parsing it\n",
      "nothing to be done, making direct copy to derived folder\n"
     ]
    },
    {
     "name": "stderr",
     "output_type": "stream",
     "text": [
      "0it [00:00, ?it/s]\n"
     ]
    },
    {
     "name": "stdout",
     "output_type": "stream",
     "text": [
      "datadir:  ../testdata\n",
      "baip.json file found, parsing it\n",
      "nothing to be done, making direct copy to derived folder\n"
     ]
    },
    {
     "name": "stderr",
     "output_type": "stream",
     "text": [
      "0it [00:00, ?it/s]\n"
     ]
    },
    {
     "name": "stdout",
     "output_type": "stream",
     "text": [
      "datadir:  ../testdata\n",
      "baip.json file found, parsing it\n",
      "nothing to be done, making direct copy to derived folder\n"
     ]
    },
    {
     "name": "stderr",
     "output_type": "stream",
     "text": [
      "0it [00:00, ?it/s]\n"
     ]
    },
    {
     "name": "stdout",
     "output_type": "stream",
     "text": [
      "datadir:  ../testdata\n",
      "baip.json file found, parsing it\n",
      "nothing to be done, making direct copy to derived folder\n"
     ]
    },
    {
     "name": "stderr",
     "output_type": "stream",
     "text": [
      "0it [00:00, ?it/s]\n"
     ]
    },
    {
     "name": "stdout",
     "output_type": "stream",
     "text": [
      "datadir:  ../testdata\n",
      "baip.json file found, parsing it\n",
      "nothing to be done, making direct copy to derived folder\n"
     ]
    },
    {
     "name": "stderr",
     "output_type": "stream",
     "text": [
      "0it [00:00, ?it/s]\n"
     ]
    },
    {
     "name": "stdout",
     "output_type": "stream",
     "text": [
      "datadir:  ../testdata\n",
      "baip.json file found, parsing it\n",
      "nothing to be done, making direct copy to derived folder\n"
     ]
    },
    {
     "name": "stderr",
     "output_type": "stream",
     "text": [
      "0it [00:00, ?it/s]\n"
     ]
    },
    {
     "name": "stdout",
     "output_type": "stream",
     "text": [
      "datadir:  ../testdata\n",
      "baip.json file found, parsing it\n",
      "nothing to be done, making direct copy to derived folder\n"
     ]
    },
    {
     "name": "stderr",
     "output_type": "stream",
     "text": [
      "0it [00:00, ?it/s]\n"
     ]
    },
    {
     "name": "stdout",
     "output_type": "stream",
     "text": [
      "datadir:  ../testdata\n",
      "baip.json file found, parsing it\n",
      "nothing to be done, making direct copy to derived folder\n"
     ]
    },
    {
     "name": "stderr",
     "output_type": "stream",
     "text": [
      "0it [00:00, ?it/s]\n"
     ]
    },
    {
     "name": "stdout",
     "output_type": "stream",
     "text": [
      "datadir:  ../testdata\n",
      "baip.json file found, parsing it\n",
      "nothing to be done, making direct copy to derived folder\n"
     ]
    },
    {
     "name": "stderr",
     "output_type": "stream",
     "text": [
      "0it [00:00, ?it/s]\n"
     ]
    },
    {
     "name": "stdout",
     "output_type": "stream",
     "text": [
      "datadir:  ../testdata\n",
      "baip.json file found, parsing it\n",
      "nothing to be done, making direct copy to derived folder\n"
     ]
    },
    {
     "name": "stderr",
     "output_type": "stream",
     "text": [
      "0it [00:00, ?it/s]\n"
     ]
    },
    {
     "name": "stdout",
     "output_type": "stream",
     "text": [
      "datadir:  ../testdata\n",
      "baip.json file found, parsing it\n",
      "nothing to be done, making direct copy to derived folder\n"
     ]
    },
    {
     "name": "stderr",
     "output_type": "stream",
     "text": [
      "0it [00:00, ?it/s]\n",
      "100%|██████████| 20/20 [00:00<00:00, 203.62it/s]"
     ]
    },
    {
     "name": "stdout",
     "output_type": "stream",
     "text": [
      "all done! thank you for using bmri-ai-prep!\n"
     ]
    },
    {
     "name": "stderr",
     "output_type": "stream",
     "text": [
      "\n"
     ]
    }
   ],
   "source": [
    "# demonstration of full pipeline \n",
    "\n",
    "import sys\n",
    "sys.path.insert(0, '../00_support_functions/') # add support function directory to path\n",
    "from PreProc import *\n",
    "\n",
    "\n",
    "data_directory = r'../testdata'\n",
    "\n",
    "bmri_ai_prep_pipeline(data_directory, 'run')"
   ]
  }
 ],
 "metadata": {
  "kernelspec": {
   "display_name": "Python 3",
   "language": "python",
   "name": "python3"
  },
  "language_info": {
   "codemirror_mode": {
    "name": "ipython",
    "version": 3
   },
   "file_extension": ".py",
   "mimetype": "text/x-python",
   "name": "python",
   "nbconvert_exporter": "python",
   "pygments_lexer": "ipython3",
   "version": "3.10.12"
  },
  "vscode": {
   "interpreter": {
    "hash": "767d51c1340bd893661ea55ea3124f6de3c7a262a8b4abca0554b478b1e2ff90"
   }
  }
 },
 "nbformat": 4,
 "nbformat_minor": 2
}
