{
 "cells": [
  {
   "cell_type": "code",
   "execution_count": 1,
   "metadata": {},
   "outputs": [],
   "source": [
    "# import pyfunctions from support functions\n",
    "import sys\n",
    "sys.path.insert(0, '../00_support_functions/') \n",
    "from pyfunctions import *"
   ]
  },
  {
   "cell_type": "code",
   "execution_count": 2,
   "metadata": {},
   "outputs": [
    {
     "name": "stdout",
     "output_type": "stream",
     "text": [
      "Inter-session, two-stage coregistration\n",
      "...done!\n"
     ]
    }
   ],
   "source": [
    "# set input and output file paths\n",
    "\n",
    "reference_dataset = r'../testdata/2stage/ref.nii'\n",
    "moving_dataset = r'../testdata/2stage/moving.nii'\n",
    "\n",
    "output_transform = r'../testdata/2stage/moving_2Reg'\n",
    "output_dataset = r'../testdata/2stage/moving_2Reg.nii'\n",
    "\n",
    "# call\n",
    "coreg_nr2stage(reference_dataset, moving_dataset, output_transform, output_dataset)"
   ]
  },
  {
   "cell_type": "code",
   "execution_count": 3,
   "metadata": {},
   "outputs": [
    {
     "name": "stdout",
     "output_type": "stream",
     "text": [
      "Inter-session, apply two-stage coregistration\n",
      "running 1st stage (rough affine transformation) ...\n",
      "running 2nd stage (finetine deformation) ...\n",
      "...done!\n"
     ]
    }
   ],
   "source": [
    "# applying transforms from 2-stage coregistration to a manual segmentation\n",
    "\n",
    "moving_seg = r'../testdata/2stage/moving_seg.nii'\n",
    "output_transform = r'../testdata/2stage/moving_2Reg'\n",
    "output_seg = r'../testdata/2stage/moving_seg_2Reg.nii'\n",
    "\n",
    "apply_nr2stage(reference_dataset, moving_seg, output_transform, output_seg)"
   ]
  }
 ],
 "metadata": {
  "kernelspec": {
   "display_name": "Python 3",
   "language": "python",
   "name": "python3"
  },
  "language_info": {
   "codemirror_mode": {
    "name": "ipython",
    "version": 3
   },
   "file_extension": ".py",
   "mimetype": "text/x-python",
   "name": "python",
   "nbconvert_exporter": "python",
   "pygments_lexer": "ipython3",
   "version": "3.10.12"
  },
  "orig_nbformat": 4,
  "vscode": {
   "interpreter": {
    "hash": "767d51c1340bd893661ea55ea3124f6de3c7a262a8b4abca0554b478b1e2ff90"
   }
  }
 },
 "nbformat": 4,
 "nbformat_minor": 2
}
