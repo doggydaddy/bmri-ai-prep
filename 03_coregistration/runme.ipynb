{
 "cells": [
  {
   "cell_type": "code",
   "execution_count": 1,
   "metadata": {},
   "outputs": [],
   "source": [
    "# import pyfunctions from support functions\n",
    "import sys\n",
    "sys.path.insert(0, '../00_support_functions/') \n",
    "from pyfunctions import *"
   ]
  },
  {
   "cell_type": "code",
   "execution_count": null,
   "metadata": {},
   "outputs": [],
   "source": [
    "# set input and output file paths\n",
    "\n",
    "reference_dataset = r'../testdata/sub-001/ses-01/sub-001_ses-01_ref.nii'\n",
    "moving_dataset = r'../testdata/sub-001/ses-01/sub-001_ses-01_t2_DixWat.nii'\n",
    "\n",
    "output_transform = r'../testdata/sub-001/ses-01/sub-001_ses-01_t2_DixWat_Regd.cpp'\n",
    "output_dataset = r'../testdata/sub-001/ses-01/sub-001_ses-01_t2_DixWat_Regd.nii'\n",
    "\n",
    "# call\n",
    "coreg_nrdef(reference_dataset, moving_dataset, output_transform, output_dataset)"
   ]
  },
  {
   "cell_type": "code",
   "execution_count": 2,
   "metadata": {},
   "outputs": [
    {
     "name": "stdout",
     "output_type": "stream",
     "text": [
      "Intra-session, inter-series coregistration\n",
      "Using NiftyReg SyN ...\n",
      "/usr/local/bin/reg_f3d\n",
      "/home/doggydaddy/abin/3dinfo\n",
      "warning! reference series is not a single volume, but a 4D series.\n",
      "using the first volume as the reference volume.\n",
      "warning! moving series is not a single volume, but a 4D series\n",
      "registering each volume independently to the reference volume.\n"
     ]
    },
    {
     "name": "stderr",
     "output_type": "stream",
     "text": [
      "100%|██████████| 3/3 [03:03<00:00, 61.30s/it]\n",
      "++ 3dTcat: AFNI version=AFNI_24.0.10 (Mar  5 2024) [64-bit]\n",
      "\u001b[7m*+ WARNING:\u001b[0m Set TR of output dataset to 1.0 s\n",
      "++ elapsed time = 1.7 s\n"
     ]
    }
   ],
   "source": [
    "# set input and output file paths\n",
    "\n",
    "reference_dataset = r'../testdata/sub-001/ses-01/sub-001_ses-01_dce.nii'\n",
    "moving_dataset = r'../testdata/sub-001/ses-01/sub-001_ses-01_dwi.nii'\n",
    "\n",
    "output_transform = r'../testdata/sub-001/ses-01/sub-001_ses-01_dwi_Regd.cpp'\n",
    "output_dataset = r'../testdata/sub-001/ses-01/sub-001_ses-01_dwi_Regd.nii'\n",
    "\n",
    "# (optional) log file\n",
    "log = r'../testdata/sub-001/ses-01/sub-001_ses-01_dwi_Regd.log'\n",
    "\n",
    "# call\n",
    "coreg_nrdef(reference_dataset, moving_dataset, output_transform, output_dataset, logfile=log)"
   ]
  }
 ],
 "metadata": {
  "kernelspec": {
   "display_name": "Python 3",
   "language": "python",
   "name": "python3"
  },
  "language_info": {
   "codemirror_mode": {
    "name": "ipython",
    "version": 3
   },
   "file_extension": ".py",
   "mimetype": "text/x-python",
   "name": "python",
   "nbconvert_exporter": "python",
   "pygments_lexer": "ipython3",
   "version": "3.10.12"
  },
  "orig_nbformat": 4,
  "vscode": {
   "interpreter": {
    "hash": "767d51c1340bd893661ea55ea3124f6de3c7a262a8b4abca0554b478b1e2ff90"
   }
  }
 },
 "nbformat": 4,
 "nbformat_minor": 2
}
