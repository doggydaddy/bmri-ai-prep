{
 "cells": [
  {
   "cell_type": "code",
   "execution_count": null,
   "metadata": {},
   "outputs": [],
   "source": [
    "# only need to run once\n",
    "\n",
    "!git clone https://huggingface.co/doggywastaken/leaky_vnet.git"
   ]
  },
  {
   "cell_type": "code",
   "execution_count": 1,
   "metadata": {},
   "outputs": [],
   "source": [
    "# imports\n",
    "from leaky_vnet.model import leaky_vnet as vnet\n",
    "\n",
    "import sys\n",
    "sys.path.insert(0, '../00_support_functions/') # add support function directory to path\n",
    "from pyfunctions import *\n",
    "from pyfunctions_extras import * # support functions to perform parametric thresholded segmentation using CNN VNET\n"
   ]
  },
  {
   "cell_type": "code",
   "execution_count": 2,
   "metadata": {},
   "outputs": [
    {
     "name": "stderr",
     "output_type": "stream",
     "text": [
      "100%|██████████| 7/7 [01:21<00:00, 11.64s/it]\n"
     ]
    },
    {
     "name": "stdout",
     "output_type": "stream",
     "text": [
      "parametric threshold by majority vote:  0.7\n"
     ]
    }
   ],
   "source": [
    "\n",
    "input_data = r'../evaldata/sub-020/ses-01/sub-020_ses-01_ref.nii'\n",
    "output_mask = r'cnn_opt/sub-020_ses-01_ref_Mask.nii'\n",
    "output_maskl = r'cnn_opt/sub-020_ses-01_ref_Maskl.nii'\n",
    "output_maskr = r'cnn_opt/sub-020_ses-01_ref_Maskr.nii'\n",
    "output_bboxl = r'cnn_opt/sub-020_ses-01_ref_Segl.nii'\n",
    "output_bboxr = r'cnn_opt/sub-020_ses-01_ref_Segr.nii'\n",
    "\n",
    "seg_cnn_opt(input_data, output_mask, output_maskl, output_maskr, output_bboxl, output_bboxr)"
   ]
  }
 ],
 "metadata": {
  "kernelspec": {
   "display_name": ".venv",
   "language": "python",
   "name": "python3"
  },
  "language_info": {
   "codemirror_mode": {
    "name": "ipython",
    "version": 3
   },
   "file_extension": ".py",
   "mimetype": "text/x-python",
   "name": "python",
   "nbconvert_exporter": "python",
   "pygments_lexer": "ipython3",
   "version": "3.12.4"
  },
  "orig_nbformat": 4
 },
 "nbformat": 4,
 "nbformat_minor": 2
}
