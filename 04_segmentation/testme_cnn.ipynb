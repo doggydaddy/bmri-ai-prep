{
 "cells": [
  {
   "cell_type": "code",
   "execution_count": 1,
   "metadata": {},
   "outputs": [
    {
     "name": "stdout",
     "output_type": "stream",
     "text": [
      "Cloning into 'leaky_vnet'...\n",
      "remote: Enumerating objects: 13, done.\u001b[K\n",
      "remote: Counting objects: 100% (9/9), done.\u001b[K\n",
      "remote: Compressing objects: 100% (8/8), done.\u001b[K\n",
      "remote: Total 13 (delta 1), reused 0 (delta 0), pack-reused 4 (from 1)\u001b[K\n",
      "Unpacking objects: 100% (13/13), 4.66 KiB | 1.55 MiB/s, done.\n"
     ]
    }
   ],
   "source": [
    "# only need to run once\n",
    "\n",
    "!git clone https://huggingface.co/doggywastaken/leaky_vnet.git"
   ]
  },
  {
   "cell_type": "code",
   "execution_count": 1,
   "metadata": {},
   "outputs": [],
   "source": [
    "# imports\n",
    "import sys\n",
    "sys.path.insert(0, '../00_support_functions/') # add support function directory to path\n",
    "from hvl_tools import *\n",
    "from pyfunctions import *\n",
    "from leaky_vnet.model import leaky_vnet as vnet\n",
    "bmriprep_cnn_seg = vnet.VNet()\n",
    "model = bmriprep_cnn_seg.from_pretrained(\"doggywastaken/bmri-prep_cnn_seg\")"
   ]
  },
  {
   "cell_type": "code",
   "execution_count": 9,
   "metadata": {},
   "outputs": [],
   "source": [
    "# load a test dataset\n",
    "\n",
    "ref_path = r'../testdata/sub-001/ses-01/sub-001_ses-01_ref.nii'\n",
    "ref_left = load_nii(ref_path, \"left\", (64,256,256))\n",
    "ref_right = load_nii(ref_path, \"right\", (64,256,256))\n",
    "ref = np.concatenate([ref_left, np.flip(ref_right, 2)], axis=2)"
   ]
  },
  {
   "cell_type": "code",
   "execution_count": 10,
   "metadata": {},
   "outputs": [
    {
     "name": "stdout",
     "output_type": "stream",
     "text": [
      "<class 'torch.Tensor'>\n"
     ]
    }
   ],
   "source": [
    "# perform inference\n",
    "\n",
    "inp = torch.from_numpy(ref).view(1,1,64,256,256).float()\n",
    "print(type(inp))\n",
    "pred = model( inp ).detach().numpy().squeeze()"
   ]
  },
  {
   "cell_type": "code",
   "execution_count": 11,
   "metadata": {},
   "outputs": [
    {
     "name": "stdout",
     "output_type": "stream",
     "text": [
      "(64, 256, 256)\n"
     ]
    },
    {
     "data": {
      "application/vnd.jupyter.widget-view+json": {
       "model_id": "5f068c1d6819487fadb6505cbebd5027",
       "version_major": 2,
       "version_minor": 0
      },
      "text/plain": [
       "interactive(children=(IntSlider(value=1, description='z', max=63, min=1), Output()), _dom_classes=('widget-int…"
      ]
     },
     "metadata": {},
     "output_type": "display_data"
    }
   ],
   "source": [
    "# plot mask\n",
    "\n",
    "import matplotlib as mpl\n",
    "mpl.rcParams['figure.figsize'] = [12, 12]\n",
    "\n",
    "mask = np.where(pred>0.5,1,0)\n",
    "imyshow(mask)"
   ]
  },
  {
   "cell_type": "code",
   "execution_count": 12,
   "metadata": {},
   "outputs": [
    {
     "name": "stdout",
     "output_type": "stream",
     "text": [
      "(112, 512, 512)\n"
     ]
    },
    {
     "data": {
      "application/vnd.jupyter.widget-view+json": {
       "model_id": "c3d31ebd5c844bd38525bdff335c3840",
       "version_major": 2,
       "version_minor": 0
      },
      "text/plain": [
       "interactive(children=(IntSlider(value=1, description='z', max=111, min=1), Output()), _dom_classes=('widget-in…"
      ]
     },
     "metadata": {},
     "output_type": "display_data"
    }
   ],
   "source": [
    "rs_ref = resize(ref, (112, 512, 512))\n",
    "rs_mask = resize(mask, (112, 512, 512))\n",
    "imyshow(rs_ref*rs_mask)"
   ]
  }
 ],
 "metadata": {
  "kernelspec": {
   "display_name": "Python 3",
   "language": "python",
   "name": "python3"
  },
  "language_info": {
   "codemirror_mode": {
    "name": "ipython",
    "version": 3
   },
   "file_extension": ".py",
   "mimetype": "text/x-python",
   "name": "python",
   "nbconvert_exporter": "python",
   "pygments_lexer": "ipython3",
   "version": "3.10.12"
  },
  "orig_nbformat": 4,
  "vscode": {
   "interpreter": {
    "hash": "767d51c1340bd893661ea55ea3124f6de3c7a262a8b4abca0554b478b1e2ff90"
   }
  }
 },
 "nbformat": 4,
 "nbformat_minor": 2
}
