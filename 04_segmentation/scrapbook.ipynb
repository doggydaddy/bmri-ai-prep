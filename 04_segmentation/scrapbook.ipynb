{
 "cells": [
  {
   "cell_type": "code",
   "execution_count": null,
   "metadata": {},
   "outputs": [],
   "source": [
    "# test cell for nifti-saving\n",
    "\n",
    "def npy_resize_nii(input, reference, output):\n",
    "    ref = nib.load(reference)\n",
    "    ref_data = ref.get_fdata()\n",
    "    swap_data = input.swapaxes(0, 2) \n",
    "    input_data = resize(swap_data, ref_data.shape)\n",
    "    input_data = np.where(input_data>0, 1, 0)\n",
    "    nii_img = nib.nifti1.Nifti1Image(input_data, affine=ref.affine, header=ref.header)\n",
    "    nib.save(nii_img, output)\n",
    "\n",
    "def npy_bbox_nii(input, reference, output, bbox, isMask=False):\n",
    "    ref = nib.load(reference)\n",
    "    ref_data = ref.get_fdata() \n",
    "    input = input.swapaxes(0,2)\n",
    "\n",
    "    ref_dim = ref.header['dim']\n",
    "    new_dim = np.copy(ref_dim)\n",
    "    new_dim[1] = input.shape[0]\n",
    "    new_dim[2] = input.shape[1]\n",
    "    new_dim[3] = input.shape[2]\n",
    "    ref.header['dim'] = new_dim\n",
    "    \n",
    "    print( bbox )\n",
    "    ref.header['qoffset_x'] = 0\n",
    "    ref.header['qoffset_y'] = 0\n",
    "    ref.header['qoffset_z'] = 0\n",
    "    ref.header['srow_x'] = [1, 0, 0, 0]\n",
    "    ref.header['srow_x'] = [0, 1, 0, 0]\n",
    "    ref.header['srow_x'] = [0, 0, 1, 0]\n",
    "\n",
    "    if isMask:\n",
    "        input_data = np.where(input_data>0, 1, 0)\n",
    "    nii_img = nib.nifti1.Nifti1Image(input, affine=ref.affine, header=ref.header)\n",
    "    nib.save(nii_img, output)\n",
    "\n",
    "ref_path = r'../testdata/sub-001/ses-01/sub-001_ses-01_ref.nii'\n",
    "npy_bbox_nii(mask_l, ref_path, 'test.nii', bbox3(pred_l))\n",
    "\n"
   ]
  },
  {
   "cell_type": "code",
   "execution_count": null,
   "metadata": {},
   "outputs": [],
   "source": [
    "ref_path = r'../testdata/sub-001/ses-01/sub-001_ses-01_ref.nii'\n",
    "\n",
    "ref_img = nib.load(ref_path)\n",
    "print(ref_img.header)\n",
    "\n",
    "ref_dim = ref_img.header['dim']\n",
    "new_dim = np.copy(ref_dim)\n",
    "new_dim[1] = mask_l.shape[0]\n",
    "new_dim[2] = mask_l.shape[1]\n",
    "new_dim[3] = mask_l.shape[2]\n",
    "ref_img.header['dim'] = new_dim\n",
    "\n",
    "bbox = bbox3(pred_l)\n",
    "ref_img.header['qoffset_x'] -= bbox[0]*ref_img.header['pixdim'][1]\n",
    "ref_img.header['qoffset_y'] -= bbox[2]*ref_img.header['pixdim'][1]\n",
    "ref_img.header['qoffset_z'] -= bbox[4]*ref_img.header['pixdim'][1]\n",
    "ref_img.header['srow_x'][3] = ref_img.header['qoffset_x']\n",
    "ref_img.header['srow_y'][3] = ref_img.header['qoffset_y']\n",
    "ref_img.header['srow_z'][3] = ref_img.header['qoffset_z']\n",
    "\n",
    "print(ref_img.header)\n",
    "\n",
    "nii_img = nib.nifti1.Nifti1Image(mask_l, affine=ref_img.affine, header=ref_img.header)\n",
    "nib.save(nii_img, 'test.nii')"
   ]
  }
 ],
 "metadata": {
  "kernelspec": {
   "display_name": "Python 3",
   "language": "python",
   "name": "python3"
  },
  "language_info": {
   "name": "python",
   "version": "3.10.12"
  },
  "orig_nbformat": 4,
  "vscode": {
   "interpreter": {
    "hash": "767d51c1340bd893661ea55ea3124f6de3c7a262a8b4abca0554b478b1e2ff90"
   }
  }
 },
 "nbformat": 4,
 "nbformat_minor": 2
}
