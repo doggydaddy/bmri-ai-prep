{
 "cells": [
  {
   "cell_type": "code",
   "execution_count": 1,
   "id": "5f3b6421-da44-4655-be60-b2a7eb08c947",
   "metadata": {
    "tags": []
   },
   "outputs": [
    {
     "name": "stderr",
     "output_type": "stream",
     "text": [
      "/home/doggydaddy/.local/lib/python3.10/site-packages/transformers/models/segformer/image_processing_segformer.py:103: FutureWarning: The `reduce_labels` parameter is deprecated and will be removed in a future version. Please use `do_reduce_labels` instead.\n",
      "  warnings.warn(\n"
     ]
    }
   ],
   "source": [
    "# load pre-trained model from hub\n",
    "\n",
    "from transformers import SegformerImageProcessor, SegformerForSemanticSegmentation\n",
    "\n",
    "processor = SegformerImageProcessor.from_pretrained(\"nvidia/segformer-b0-finetuned-ade-512-512\")\n",
    "model = SegformerForSemanticSegmentation.from_pretrained(r\"doggywastaken/segformer-b0-finetuned-bmri-prep\")"
   ]
  },
  {
   "cell_type": "code",
   "execution_count": 2,
   "id": "44ca6a28",
   "metadata": {},
   "outputs": [],
   "source": [
    "# load dataset from hub\n",
    "\n",
    "from datasets import load_dataset\n",
    "\n",
    "hf_dataset_identifier = f\"doggywastaken/manual_breast_segs\"\n",
    "ds = load_dataset(hf_dataset_identifier)\n",
    "\n",
    "ds = ds.shuffle(seed=1337)\n",
    "ds = ds[\"train\"].train_test_split(test_size=0.2)\n",
    "train_ds = ds[\"train\"]\n",
    "test_ds = ds[\"test\"]\n",
    "\n",
    "import json\n",
    "from huggingface_hub import hf_hub_download\n",
    "\n",
    "repo_id = f\"datasets/{hf_dataset_identifier}\"\n",
    "filename = \"id2label.json\"\n",
    "id2label = json.load(open(hf_hub_download(repo_id=hf_dataset_identifier, filename=filename, repo_type=\"dataset\"), \"r\"))\n",
    "id2label = {int(k): v for k, v in id2label.items()}\n",
    "label2id = {v: k for k, v in id2label.items()}\n",
    "\n",
    "num_labels = len(id2label)"
   ]
  },
  {
   "cell_type": "code",
   "execution_count": 3,
   "id": "cf6270b3",
   "metadata": {},
   "outputs": [
    {
     "name": "stderr",
     "output_type": "stream",
     "text": [
      "100%|██████████| 112/112 [00:16<00:00,  6.86it/s]\n",
      "100%|██████████| 112/112 [00:16<00:00,  6.64it/s]\n"
     ]
    }
   ],
   "source": [
    "# import support functions from pyfunctionns in 0_Support_Functions for jpy-based inference using ViT\n",
    "import sys\n",
    "sys.path.insert(0, '../00_support_functions/') # add support function directory to path\n",
    "from hvl_tools import *\n",
    "from pyfunctions import *\n",
    "\n",
    "# inference\n",
    "pred_both = inference_on_nii_both(r'../testdata/sub-001/ses-01/sub-001_ses-01_ref.nii', processor, model)\n"
   ]
  },
  {
   "cell_type": "code",
   "execution_count": 4,
   "id": "ff143519",
   "metadata": {},
   "outputs": [
    {
     "name": "stdout",
     "output_type": "stream",
     "text": [
      "(93, 129, 148)\n"
     ]
    },
    {
     "data": {
      "application/vnd.jupyter.widget-view+json": {
       "model_id": "be7bfefe18c94199adef095570ec9932",
       "version_major": 2,
       "version_minor": 0
      },
      "text/plain": [
       "interactive(children=(IntSlider(value=1, description='z', max=92, min=1), Output()), _dom_classes=('widget-int…"
      ]
     },
     "metadata": {},
     "output_type": "display_data"
    },
    {
     "name": "stdout",
     "output_type": "stream",
     "text": [
      "(83, 113, 146)\n"
     ]
    },
    {
     "data": {
      "application/vnd.jupyter.widget-view+json": {
       "model_id": "38be0c38ae964e26a7ee7e2a7b05bea8",
       "version_major": 2,
       "version_minor": 0
      },
      "text/plain": [
       "interactive(children=(IntSlider(value=1, description='z', max=82, min=1), Output()), _dom_classes=('widget-int…"
      ]
     },
     "metadata": {},
     "output_type": "display_data"
    }
   ],
   "source": [
    "# split predicted into right and left\n",
    "# load reference dataset for underlay\n",
    "ref_l = load_nii(r'../testdata/sub-001/ses-01/sub-001_ses-01_ref.nii', 'left')\n",
    "ref_r = load_nii(r'../testdata/sub-001/ses-01/sub-001_ses-01_ref.nii', 'right')\n",
    "ref = np.concatenate([ref_l, np.flip(ref_r, 2)], axis=2) \n",
    "\n",
    "fullwidth = pred_both.shape[2]\n",
    "midpoint = int(np.floor(fullwidth/2))\n",
    "pred_l = pred_both[:, :, 0:midpoint]\n",
    "pred_r = np.flip(pred_both[:, :, midpoint:fullwidth],2)\n",
    "mask_l = bbox3_masked(pred_l, ref_l, 15)\n",
    "mask_r = bbox3_masked(pred_r, ref_r, 15)\n",
    "\n",
    "imyshow(mask_l)\n",
    "imyshow(mask_r)\n",
    "\n"
   ]
  }
 ],
 "metadata": {
  "kernelspec": {
   "display_name": "Python 3",
   "language": "python",
   "name": "python3"
  },
  "language_info": {
   "codemirror_mode": {
    "name": "ipython",
    "version": 3
   },
   "file_extension": ".py",
   "mimetype": "text/x-python",
   "name": "python",
   "nbconvert_exporter": "python",
   "pygments_lexer": "ipython3",
   "version": "3.10.12"
  },
  "vscode": {
   "interpreter": {
    "hash": "767d51c1340bd893661ea55ea3124f6de3c7a262a8b4abca0554b478b1e2ff90"
   }
  }
 },
 "nbformat": 4,
 "nbformat_minor": 5
}
