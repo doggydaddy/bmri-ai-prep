{
 "cells": [
  {
   "cell_type": "code",
   "execution_count": 1,
   "metadata": {
    "notebookRunGroups": {
     "groupValue": "1"
    }
   },
   "outputs": [
    {
     "name": "stdout",
     "output_type": "stream",
     "text": [
      "Performing deep-learning powered breast masking\n",
      "Using Vision Transformer\n"
     ]
    },
    {
     "name": "stderr",
     "output_type": "stream",
     "text": [
      "/home/doggydaddy/.local/lib/python3.10/site-packages/transformers/models/segformer/image_processing_segformer.py:103: FutureWarning: The `reduce_labels` parameter is deprecated and will be removed in a future version. Please use `do_reduce_labels` instead.\n",
      "  warnings.warn(\n",
      "100%|██████████| 112/112 [00:16<00:00,  6.80it/s]\n",
      "100%|██████████| 112/112 [00:16<00:00,  6.82it/s]\n"
     ]
    },
    {
     "name": "stdout",
     "output_type": "stream",
     "text": [
      "... done!\n"
     ]
    }
   ],
   "source": [
    "# import support functions from pyfunctionns in 0_Support_Functions for jpy-based inference using ViT\n",
    "import sys\n",
    "sys.path.insert(0, '../00_support_functions/') # add support function directory to path\n",
    "from hvl_tools import *\n",
    "from pyfunctions import *\n",
    "\n",
    "test_input =                    r'../testdata/sub-001/ses-01/sub-001_ses-01_ref.nii'\n",
    "test_output =                   r'../eval_results/sub-001_ses-01_ref_Mask.nii'\n",
    "test_output_left =              r'../eval_results/sub-001_ses-01_ref_Maskl.nii'\n",
    "test_output_right =             r'../eval_results/sub-001_ses-01_ref_Maskr.nii'\n",
    "test_output_bbox_left =         r'../eval_results/sub-001_ses-01_ref_Segl.nii'\n",
    "test_output_bbox_right =        r'../eval_results/sub-001_ses-01_ref_Segr.nii'\n",
    "\n",
    "seg_vit(test_input, \n",
    "        test_output, \n",
    "        test_output_left, \n",
    "        test_output_right,\n",
    "        test_output_bbox_left, \n",
    "        test_output_bbox_right)\n"
   ]
  }
 ],
 "metadata": {
  "kernelspec": {
   "display_name": "Python 3",
   "language": "python",
   "name": "python3"
  },
  "language_info": {
   "codemirror_mode": {
    "name": "ipython",
    "version": 3
   },
   "file_extension": ".py",
   "mimetype": "text/x-python",
   "name": "python",
   "nbconvert_exporter": "python",
   "pygments_lexer": "ipython3",
   "version": "3.10.12"
  },
  "orig_nbformat": 4,
  "vscode": {
   "interpreter": {
    "hash": "767d51c1340bd893661ea55ea3124f6de3c7a262a8b4abca0554b478b1e2ff90"
   }
  }
 },
 "nbformat": 4,
 "nbformat_minor": 2
}
