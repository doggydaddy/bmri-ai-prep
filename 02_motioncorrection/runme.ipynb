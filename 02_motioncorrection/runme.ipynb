{
 "cells": [
  {
   "cell_type": "markdown",
   "metadata": {},
   "source": [
    "# Prerequisites\n",
    "\n",
    "Before running this notebook, make sure to have the following:\n",
    "\n",
    "* AFNI installed and its binaries are in your system's PATH variable\n",
    "\n",
    "* NiftyReg installed and its binaries are in your system's PATH variable\n",
    "\n",
    "# Quick Start\n",
    "\n",
    "## Setup environment variables\n",
    "\n",
    "Make sure bmri-prep's *abin* directory is in your system's PATH variable:\n",
    "\n",
    "        export PATH=$PATH:<enter your bmri-prep directory here>/abin\n",
    "\n",
    "OR, simply call setup.sh in the base directory:\n",
    "\n",
    "        ./setup.sh\n",
    "\n"
   ]
  },
  {
   "cell_type": "code",
   "execution_count": 1,
   "metadata": {},
   "outputs": [],
   "source": [
    "# import pyfunctions from support functions\n",
    "import sys\n",
    "sys.path.insert(0, '../00_support_functions/') \n",
    "from pyfunctions import *"
   ]
  },
  {
   "cell_type": "code",
   "execution_count": 2,
   "metadata": {},
   "outputs": [],
   "source": [
    "# set up input and output paths\n",
    "series_to_motion_correct        = r'../testdata/sub-001/ses-01/sub-001_ses-01_dce.nii'\n",
    "reference_series                = r'../testdata/sub-001/ses-01/sub-001_ses-01_ref.nii'\n",
    "\n",
    "# please note the lack of file extension below\n",
    "output_1  = r'../testdata/sub-001/ses-01/sub-001_ses-01_dce_Moco1.nii'\n",
    "output_2  = r'../testdata/sub-001/ses-01/sub-001_ses-01_dce_MocoAvg.nii'\n",
    "output_3  = r'../testdata/sub-001/ses-01/sub-001_ses-01_dce_MocoRef.nii'\n",
    "\n",
    "# (optional) logfile (unused in this example)\n",
    "logfile                         = r'../testdata/sub-001/ses-01/sub-001_ses-01_dce_MocoDef.log'"
   ]
  },
  {
   "cell_type": "code",
   "execution_count": 4,
   "metadata": {},
   "outputs": [
    {
     "name": "stdout",
     "output_type": "stream",
     "text": [
      "Motion correction using NiftyReg's deformation registration algorithm ...\n",
      "No reference given, using first volume of moving to perform motion correction\n"
     ]
    },
    {
     "name": "stderr",
     "output_type": "stream",
     "text": [
      "100%|██████████| 5/5 [03:38<00:00, 43.62s/it]\n"
     ]
    },
    {
     "name": "stdout",
     "output_type": "stream",
     "text": [
      "... done!\n"
     ]
    },
    {
     "data": {
      "text/plain": [
       "'../testdata/sub-001/ses-01/sub-001_ses-01_dce_Moco1'"
      ]
     },
     "execution_count": 4,
     "metadata": {},
     "output_type": "execute_result"
    }
   ],
   "source": [
    "# run motion correction using itself (1st volume) as reference\n",
    "\n",
    "moco_nrdef(series_to_motion_correct, output_1)"
   ]
  },
  {
   "cell_type": "code",
   "execution_count": null,
   "metadata": {},
   "outputs": [],
   "source": [
    "\n",
    "# run motion correction using itself (average) as reference\n",
    "\n",
    "moco_nrdef(series_to_motion_correct, output_2, ref=\"average\")"
   ]
  },
  {
   "cell_type": "code",
   "execution_count": null,
   "metadata": {},
   "outputs": [],
   "source": [
    "# run deformation motion correction (using another dataset as reference)\n",
    "\n",
    "moco_nrdef(series_to_motion_correct, output_3, ref=reference_series)"
   ]
  },
  {
   "cell_type": "code",
   "execution_count": null,
   "metadata": {},
   "outputs": [],
   "source": [
    "# eval using ssim metrics \n",
    "\n",
    "before = r'../testdata/sub-001/ses-01/sub-001_ses-01_dce.nii'\n",
    "after = r'../testdata/sub-001/ses-01/sub-001_ses-01_dce_Moco1.nii'\n",
    "\n",
    "result = eval_moco_ssim(before, after)\n",
    "\n",
    "print(result)"
   ]
  }
 ],
 "metadata": {
  "kernelspec": {
   "display_name": ".venv",
   "language": "python",
   "name": "python3"
  },
  "language_info": {
   "codemirror_mode": {
    "name": "ipython",
    "version": 3
   },
   "file_extension": ".py",
   "mimetype": "text/x-python",
   "name": "python",
   "nbconvert_exporter": "python",
   "pygments_lexer": "ipython3",
   "version": "3.12.4"
  },
  "orig_nbformat": 4
 },
 "nbformat": 4,
 "nbformat_minor": 2
}
