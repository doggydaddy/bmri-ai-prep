{
 "cells": [
  {
   "cell_type": "markdown",
   "metadata": {},
   "source": [
    "# Prerequisites\n",
    "\n",
    "Before running this notebook, make sure to have the following:\n",
    "\n",
    "* AFNI installed and its binaries are in your system's PATH variable\n",
    "\n",
    "* NiftyReg installed and its binaries are in your system's PATH variable\n",
    "\n",
    "# Quick Start\n",
    "\n",
    "## Setup environment variables\n",
    "\n",
    "Make sure bmri-prep's *abin* directory is in your system's PATH variable:\n",
    "\n",
    "        export PATH=$PATH:<enter your bmri-prep directory here>/abin\n",
    "\n",
    "OR, simply call setup.sh in the base directory:\n",
    "\n",
    "        ./setup.sh\n",
    "\n"
   ]
  },
  {
   "cell_type": "code",
   "execution_count": 1,
   "metadata": {},
   "outputs": [],
   "source": [
    "# import pyfunctions from support functions\n",
    "import sys\n",
    "sys.path.insert(0, '../00_support_functions/') \n",
    "from pyfunctions import *"
   ]
  },
  {
   "cell_type": "code",
   "execution_count": 2,
   "metadata": {},
   "outputs": [],
   "source": [
    "# set up input and output paths\n",
    "series_to_motion_correct        = r'../testdata/sub-001/ses-01/sub-001_ses-01_dce.nii'\n",
    "reference_series                = r'../testdata/sub-001/ses-01/sub-001_ses-01_ref.nii'\n",
    "\n",
    "# please note the lack of prefix below\n",
    "output_1  = r'../testdata/sub-001/ses-01/sub-001_ses-01_dce_Moco1'\n",
    "output_2  = r'../testdata/sub-001/ses-01/sub-001_ses-01_dce_MocoAvg'\n",
    "output_3  = r'../testdata/sub-001/ses-01/sub-001_ses-01_dce_MocoRef'\n",
    "\n",
    "# (optional) logfile (unused in this example)\n",
    "logfile                         = r'../testdata/sub-001/ses-01/sub-001_ses-01_dce_MocoDef.log'"
   ]
  },
  {
   "cell_type": "code",
   "execution_count": 3,
   "metadata": {},
   "outputs": [
    {
     "name": "stdout",
     "output_type": "stream",
     "text": [
      "Motion correction using NiftyReg's deformation registration algorithm ...\n",
      "No reference given, using first volume of moving to perform motion correction\n"
     ]
    },
    {
     "name": "stderr",
     "output_type": "stream",
     "text": [
      "100%|██████████| 6/6 [12:09<00:00, 121.62s/it]\n"
     ]
    },
    {
     "name": "stdout",
     "output_type": "stream",
     "text": [
      "... done!\n"
     ]
    },
    {
     "data": {
      "text/plain": [
       "'../testdata/sub-001/ses-01/sub-001_ses-01_dce_Moco1'"
      ]
     },
     "execution_count": 3,
     "metadata": {},
     "output_type": "execute_result"
    }
   ],
   "source": [
    "# run motion correction using itself (1st volume) as reference\n",
    "\n",
    "moco_nrdef(series_to_motion_correct, output_1)"
   ]
  },
  {
   "cell_type": "code",
   "execution_count": 4,
   "metadata": {},
   "outputs": [
    {
     "name": "stdout",
     "output_type": "stream",
     "text": [
      "Motion correction using NiftyReg's deformation registration algorithm ...\n",
      "using average moving series as reference for motion correction\n"
     ]
    },
    {
     "name": "stderr",
     "output_type": "stream",
     "text": [
      "100%|██████████| 6/6 [14:24<00:00, 144.11s/it]\n"
     ]
    },
    {
     "name": "stdout",
     "output_type": "stream",
     "text": [
      "... done!\n"
     ]
    },
    {
     "data": {
      "text/plain": [
       "'../testdata/sub-001/ses-01/sub-001_ses-01_dce_MocoAvg'"
      ]
     },
     "execution_count": 4,
     "metadata": {},
     "output_type": "execute_result"
    }
   ],
   "source": [
    "\n",
    "# run motion correction using itself (average) as reference\n",
    "\n",
    "moco_nrdef(series_to_motion_correct, output_2, ref=\"average\")"
   ]
  },
  {
   "cell_type": "code",
   "execution_count": 5,
   "metadata": {},
   "outputs": [
    {
     "name": "stdout",
     "output_type": "stream",
     "text": [
      "Motion correction using NiftyReg's deformation registration algorithm ...\n",
      "using specified dataset as reference for motion correction\n"
     ]
    },
    {
     "name": "stderr",
     "output_type": "stream",
     "text": [
      "100%|██████████| 6/6 [11:59<00:00, 119.84s/it]\n"
     ]
    },
    {
     "name": "stdout",
     "output_type": "stream",
     "text": [
      "... done!\n"
     ]
    },
    {
     "data": {
      "text/plain": [
       "'../testdata/sub-001/ses-01/sub-001_ses-01_dce_MocoRef'"
      ]
     },
     "execution_count": 5,
     "metadata": {},
     "output_type": "execute_result"
    }
   ],
   "source": [
    "# run deformation motion correction (using another dataset as reference)\n",
    "\n",
    "moco_nrdef(series_to_motion_correct, output_3, ref=reference_series)"
   ]
  },
  {
   "cell_type": "code",
   "execution_count": 6,
   "metadata": {},
   "outputs": [
    {
     "name": "stdout",
     "output_type": "stream",
     "text": [
      "0.0025462331818413165\n"
     ]
    }
   ],
   "source": [
    "# eval using ssim metrics \n",
    "\n",
    "before = r'../testdata/sub-001/ses-01/sub-001_ses-01_dce.nii'\n",
    "after = r'../testdata/sub-001/ses-01/sub-001_ses-01_dce_Moco1.nii'\n",
    "\n",
    "result = eval_moco_ssim(before, after)\n",
    "\n",
    "print(result)"
   ]
  }
 ],
 "metadata": {
  "kernelspec": {
   "display_name": "Python 3",
   "language": "python",
   "name": "python3"
  },
  "language_info": {
   "codemirror_mode": {
    "name": "ipython",
    "version": 3
   },
   "file_extension": ".py",
   "mimetype": "text/x-python",
   "name": "python",
   "nbconvert_exporter": "python",
   "pygments_lexer": "ipython3",
   "version": "3.10.12"
  },
  "orig_nbformat": 4,
  "vscode": {
   "interpreter": {
    "hash": "767d51c1340bd893661ea55ea3124f6de3c7a262a8b4abca0554b478b1e2ff90"
   }
  }
 },
 "nbformat": 4,
 "nbformat_minor": 2
}
